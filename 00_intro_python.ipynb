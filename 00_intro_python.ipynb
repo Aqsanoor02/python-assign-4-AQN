{
  "nbformat": 4,
  "nbformat_minor": 0,
  "metadata": {
    "colab": {
      "provenance": [],
      "authorship_tag": "ABX9TyMJQQ+J5pH1XSup3uW4WHAT",
      "include_colab_link": true
    },
    "kernelspec": {
      "name": "python3",
      "display_name": "Python 3"
    },
    "language_info": {
      "name": "python"
    }
  },
  "cells": [
    {
      "cell_type": "markdown",
      "metadata": {
        "id": "view-in-github",
        "colab_type": "text"
      },
      "source": [
        "<a href=\"https://colab.research.google.com/github/Aqsanoor02/python-assign-4-AQN/blob/main/00_intro_python.ipynb\" target=\"_parent\"><img src=\"https://colab.research.google.com/assets/colab-badge.svg\" alt=\"Open In Colab\"/></a>"
      ]
    },
    {
      "cell_type": "markdown",
      "source": [
        "#Problem Statement\n",
        "\n",
        "Write a Python program that takes two integer inputs from the user and calculates their sum."
      ],
      "metadata": {
        "id": "e7QL6QfkA56Q"
      }
    },
    {
      "cell_type": "code",
      "source": [
        "a= int(input(\"Enter value 1 for sum : \"))\n",
        "b= int(input(\"Enter value 2 for sum : \"))\n",
        "print(f\"Sum of {a} and {b} is {a+b}\")"
      ],
      "metadata": {
        "colab": {
          "base_uri": "https://localhost:8080/"
        },
        "id": "CL9rpKp4BXST",
        "outputId": "1bb421f0-42db-4e5d-97c8-ed77f579ad3c"
      },
      "execution_count": null,
      "outputs": [
        {
          "output_type": "stream",
          "name": "stdout",
          "text": [
            "Enter value 1 for sum : 4\n",
            "Enter value 2 for sum : 7\n",
            "Sum of 4 and 7 is 11\n"
          ]
        }
      ]
    },
    {
      "cell_type": "markdown",
      "source": [
        "# Problem Statement\n",
        "Write a program which asks the user what their favorite animal is, and then always responds with \"My favorite animal is also ___!\""
      ],
      "metadata": {
        "id": "W7plIBETW56U"
      }
    },
    {
      "cell_type": "code",
      "source": [
        "user_input= input(\"What is your favourite animal? \")\n",
        "print(f\"My favorite animal is also {user_input}!\")"
      ],
      "metadata": {
        "colab": {
          "base_uri": "https://localhost:8080/"
        },
        "id": "cXWZ8S34XyAg",
        "outputId": "b6ccc432-70fd-4cf0-c2fd-89f2f75d09ed"
      },
      "execution_count": null,
      "outputs": [
        {
          "output_type": "stream",
          "name": "stdout",
          "text": [
            "What is your favourite animal? rabbit\n",
            "My favorite animal is also rabbit!\n"
          ]
        }
      ]
    },
    {
      "cell_type": "markdown",
      "source": [
        "# Problem Statement\n",
        "Write a program which prompts the user for a temperature in Fahrenheit (this can be a number with decimal places!) and outputs the temperature converted to Celsius."
      ],
      "metadata": {
        "id": "1i1pVGR4ZkDX"
      }
    },
    {
      "cell_type": "code",
      "source": [
        "Fahran_temp=int(input(\"Enter temperature in celsius : \"))\n",
        "Cel_temp= (Fahran_temp-32)*5/9\n",
        "print(f\"{Fahran_temp} oF = {Cel_temp} oC\")"
      ],
      "metadata": {
        "colab": {
          "base_uri": "https://localhost:8080/"
        },
        "id": "MF6_Y4CGZyVQ",
        "outputId": "c3a21294-00aa-45c5-d574-3a8c0e01e140"
      },
      "execution_count": null,
      "outputs": [
        {
          "output_type": "stream",
          "name": "stdout",
          "text": [
            "Enter temperature in celsius : 35\n",
            "35 oF = 1.6666666666666667 oC\n"
          ]
        }
      ]
    },
    {
      "cell_type": "markdown",
      "source": [
        "# Problem Statement\n",
        "Write a program to solve this age-related riddle!\n",
        "\n",
        "Anton, Beth, Chen, Drew, and Ethan are all friends. Their ages are as follows:\n",
        "\n",
        "Anton is 21 years old.\n",
        "\n",
        "Beth is 6 years older than Anton.\n",
        "\n",
        "Chen is 20 years older than Beth.\n",
        "\n",
        "Drew is as old as Chen's age plus Anton's age.\n",
        "\n",
        "Ethan is the same age as Chen.\n",
        "\n",
        "Your code should store each person's age to a variable and print their names and ages at the end."
      ],
      "metadata": {
        "id": "IplvZGz-cqdD"
      }
    },
    {
      "cell_type": "code",
      "source": [
        "Anton = 21\n",
        "Beth = Anton+6\n",
        "Chen = 20+Beth\n",
        "Drew= Chen+Anton\n",
        "Ethan = Chen\n",
        "\n",
        "Age = {\n",
        "    \"Anton\" :Anton,\n",
        "    \"Beth\" : Beth,\n",
        "    \"Chen\" : Chen,\n",
        "    \"Drew\" : Drew,\n",
        "    \"Ethan\" :Ethan\n",
        "}\n",
        "\n",
        "for key, value in Age.items():\n",
        "  print(f\"{key} is {value}\")"
      ],
      "metadata": {
        "colab": {
          "base_uri": "https://localhost:8080/"
        },
        "id": "h03wLNZSdLX_",
        "outputId": "a15fd1fd-ff89-40b4-e75a-b296d9e6c55c"
      },
      "execution_count": null,
      "outputs": [
        {
          "output_type": "stream",
          "name": "stdout",
          "text": [
            "Anton is 21\n",
            "Beth is 27\n",
            "Chen is 47\n",
            "Drew is 68\n",
            "Ethan is 47\n"
          ]
        }
      ]
    },
    {
      "cell_type": "markdown",
      "source": [
        "# Problem Statement\n",
        "Prompt the user to enter the lengths of each side of a triangle and then calculate and print the perimeter of the triang"
      ],
      "metadata": {
        "id": "u7SBJBYkkLdD"
      }
    },
    {
      "cell_type": "code",
      "source": [
        "base=float(input(\"Enter lenght of base : \"))\n",
        "height=float(input(\"Enter lenght of height : \"))\n",
        "hypotenuse=float(input(\"Enter lenght of hypotenuse : \"))\n",
        "\n",
        "perimeter = base +height +hypotenuse\n",
        "print(f\"Perimeter of triangle = {perimeter}\")\n"
      ],
      "metadata": {
        "id": "C4PHkCYEkYUE",
        "colab": {
          "base_uri": "https://localhost:8080/"
        },
        "outputId": "d7b867ad-1db2-4741-dc70-0392ddd2eaa7"
      },
      "execution_count": 8,
      "outputs": [
        {
          "output_type": "stream",
          "name": "stdout",
          "text": [
            "Enter lenght of base : 67\n",
            "Enter lenght of height : 3523\n",
            "Enter lenght of hypotenuse : 62\n",
            "Perimeter of triangle = 3652.0\n"
          ]
        }
      ]
    },
    {
      "cell_type": "markdown",
      "source": [
        "# Problem Statement\n",
        "Ask the user for a number and print its square"
      ],
      "metadata": {
        "id": "J3CgbidaoW88"
      }
    },
    {
      "cell_type": "code",
      "source": [
        "num = int(input(\"Enter a number for square : \"))\n",
        "print(f\"Square of {num} is {num**2}\")"
      ],
      "metadata": {
        "colab": {
          "base_uri": "https://localhost:8080/"
        },
        "id": "YFxhtam7oeQ_",
        "outputId": "4282d411-1b36-4499-981d-b8060b6a57d4"
      },
      "execution_count": 9,
      "outputs": [
        {
          "output_type": "stream",
          "name": "stdout",
          "text": [
            "Enter a number for square : 5\n",
            "Square of 5 is 25\n"
          ]
        }
      ]
    }
  ]
}