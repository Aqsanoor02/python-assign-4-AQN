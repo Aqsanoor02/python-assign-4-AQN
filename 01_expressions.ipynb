{
  "nbformat": 4,
  "nbformat_minor": 0,
  "metadata": {
    "colab": {
      "provenance": [],
      "authorship_tag": "ABX9TyNCm0buNp0DXNk7xnkxp1UK",
      "include_colab_link": true
    },
    "kernelspec": {
      "name": "python3",
      "display_name": "Python 3"
    },
    "language_info": {
      "name": "python"
    }
  },
  "cells": [
    {
      "cell_type": "markdown",
      "metadata": {
        "id": "view-in-github",
        "colab_type": "text"
      },
      "source": [
        "<a href=\"https://colab.research.google.com/github/Aqsanoor02/python-assign-4-AQN/blob/main/01_expressions.ipynb\" target=\"_parent\"><img src=\"https://colab.research.google.com/assets/colab-badge.svg\" alt=\"Open In Colab\"/></a>"
      ]
    },
    {
      "cell_type": "markdown",
      "source": [
        "### Simulate rolling two dice, three times. Prints the results of each die roll. This program is used to show how variable scope works."
      ],
      "metadata": {
        "id": "wUBDpXpv39fg"
      }
    },
    {
      "cell_type": "code",
      "execution_count": null,
      "metadata": {
        "colab": {
          "base_uri": "https://localhost:8080/"
        },
        "id": "K9zA6IuvsV-h",
        "outputId": "aafbbbb7-1dc3-46c5-87ee-2b93a199b0cc"
      },
      "outputs": [
        {
          "output_type": "stream",
          "name": "stdout",
          "text": [
            "die1 = 2, die2 =5\n",
            "die1 = 1, die2 =2\n",
            "die1 = 6, die2 =2\n"
          ]
        }
      ],
      "source": [
        "import random\n",
        "dice_sides=6\n",
        "def roll_dice():\n",
        "  die1= random.randint(1,dice_sides)\n",
        "  die2= random.randint(1,dice_sides)\n",
        "  print(f\"die1 = {die1}, die2 ={die2}\")\n",
        "roll_dice()\n",
        "roll_dice()\n",
        "roll_dice()"
      ]
    },
    {
      "cell_type": "markdown",
      "source": [
        "# Problem Statement\n",
        "Write a program that continually reads in mass from the user and then outputs the equivalent energy using Einstein's mass-energy equivalence formula (E stands for energy, m stands for mass, and C is the speed of light:\n",
        "\n",
        "E = m * c**2\n",
        "\n",
        "Almost 100 years ago, Albert Einstein famously discovered that mass and energy are interchangeable and are related by the above equation. You should ask the user for mass (m) in kilograms and use a constant value for the speed of light -- C = 299792458 m/s."
      ],
      "metadata": {
        "id": "0LPmvl5e4Irz"
      }
    },
    {
      "cell_type": "code",
      "source": [
        "m= int(input(\"Enter mass in kg : \"))\n",
        "e= m*(299792458**2)\n",
        "print(f\"Energy = {e} joules\")"
      ],
      "metadata": {
        "colab": {
          "base_uri": "https://localhost:8080/"
        },
        "id": "1Ol30rXM4ix0",
        "outputId": "86b6189f-fc7e-4b17-b3fd-d36e2f378599"
      },
      "execution_count": null,
      "outputs": [
        {
          "output_type": "stream",
          "name": "stdout",
          "text": [
            "Enter mass in kg : 52\n",
            "Energy = 4673526929431451728 joules of energy\n"
          ]
        }
      ]
    },
    {
      "cell_type": "markdown",
      "source": [
        "# Problem Statement\n",
        "Converts feet to inches. Feet is an American unit of measurement. There are 12 inches per foot. Foot is the singular, and feet is the plural."
      ],
      "metadata": {
        "id": "E0ntjPUv5mg2"
      }
    },
    {
      "cell_type": "code",
      "source": [
        "feet= float(input(\"Enter lenght in feet : \"))\n",
        "print(f\"{feet} ft = {feet*12} inches\")"
      ],
      "metadata": {
        "colab": {
          "base_uri": "https://localhost:8080/"
        },
        "id": "ZrKIDFrz576W",
        "outputId": "e6341960-056d-46d0-a944-a2ca41a0dadd"
      },
      "execution_count": null,
      "outputs": [
        {
          "output_type": "stream",
          "name": "stdout",
          "text": [
            "Enter lenght in feet : 2\n",
            "2.0 ft = 24.0 inches\n"
          ]
        }
      ]
    },
    {
      "cell_type": "markdown",
      "source": [
        "# Problem Statement\n",
        "Write a program that asks the user for the lengths of the two perpendicular sides of a right triangle and outputs the length of the third side (the hypotenuse) using the Pythagorean theorem!"
      ],
      "metadata": {
        "id": "JwJXQKCx7Bgz"
      }
    },
    {
      "cell_type": "code",
      "source": [
        "import math\n",
        "base= float(input(\"Enter lenght of base = \"))\n",
        "perp = float(input(\"Enter lenght of perpendicular = \"))\n",
        "print(f\"Hypotenuse = {math.sqrt(base**2+perp**2)}\")"
      ],
      "metadata": {
        "colab": {
          "base_uri": "https://localhost:8080/"
        },
        "id": "44WCHA8P7FzN",
        "outputId": "1bbc1160-aeec-4d57-cb54-21adcf2ee664"
      },
      "execution_count": null,
      "outputs": [
        {
          "output_type": "stream",
          "name": "stdout",
          "text": [
            "Enter lenght of base = 5\n",
            "Enter lenght of perpendicular = 5\n",
            "Hypotenuse = 7.0710678118654755\n"
          ]
        }
      ]
    },
    {
      "cell_type": "markdown",
      "source": [
        "# Problem Statement\n",
        "Ask the user for two numbers, one at a time, and then print the result of dividing the first number by the second and also the remainder of the division"
      ],
      "metadata": {
        "id": "LYOD60PN8LUl"
      }
    },
    {
      "cell_type": "code",
      "source": [
        "num1 = float(input(\"Enter number 1 : \"))\n",
        "num2 = float(input(\"Enter number 2 : \"))\n",
        "\n",
        "print(f\"{num1}/{num2} = {num1/num2}, remainder = {num1 % num2}\")\n"
      ],
      "metadata": {
        "colab": {
          "base_uri": "https://localhost:8080/"
        },
        "id": "cTr96FrY8NXu",
        "outputId": "7e2629b0-2f58-4d47-ac02-3637a9db000e"
      },
      "execution_count": null,
      "outputs": [
        {
          "output_type": "stream",
          "name": "stdout",
          "text": [
            "Enter number 1 : 6\n",
            "Enter number 2 : 4\n",
            "6.0/4.0 = 1.5, remainder = 2.0\n"
          ]
        }
      ]
    },
    {
      "cell_type": "markdown",
      "source": [
        "#Problem Statement\n",
        "Simulate rolling two dice, and prints results of each roll as well as the total."
      ],
      "metadata": {
        "id": "ZWB4kRq66bmU"
      }
    },
    {
      "cell_type": "code",
      "source": [
        "import random\n",
        "SIDES= 6\n",
        "\n",
        "def roll_dice():\n",
        "  die1 = random.randint(1,SIDES)\n",
        "  die2 = random.randint(1,SIDES)\n",
        "\n",
        "  print(f\"die1= {die1}, die2={die2}, sum= {die1+die2}\")\n",
        "\n",
        "roll_dice()"
      ],
      "metadata": {
        "colab": {
          "base_uri": "https://localhost:8080/"
        },
        "id": "802CX5iK6dZ7",
        "outputId": "c6a6d996-ba52-407b-e3ab-02047ede8997"
      },
      "execution_count": 10,
      "outputs": [
        {
          "output_type": "stream",
          "name": "stdout",
          "text": [
            "die1= 4, die2=2, sum= 6\n"
          ]
        }
      ]
    },
    {
      "cell_type": "markdown",
      "source": [
        "#Problem Statement\n",
        "Use Python to calculate the number of seconds in a year, and tell the user what the result is in a nice print statement"
      ],
      "metadata": {
        "id": "SM7FCNep7WN9"
      }
    },
    {
      "cell_type": "code",
      "source": [
        "user_input= float(input(\"Enter number of years : \"))\n",
        "def sec_in_year():\n",
        "  sec = user_input*365*24*3600\n",
        "  print(sec)\n",
        "\n",
        "sec_in_year()\n"
      ],
      "metadata": {
        "colab": {
          "base_uri": "https://localhost:8080/"
        },
        "id": "1J2PBIj07qS9",
        "outputId": "3d0d0a1d-ee82-4951-e063-72d27b2f0bd9"
      },
      "execution_count": 13,
      "outputs": [
        {
          "output_type": "stream",
          "name": "stdout",
          "text": [
            "Enter number of years : 7\n",
            "220752000.0\n"
          ]
        }
      ]
    },
    {
      "cell_type": "markdown",
      "source": [
        "#Problem Statement\n",
        "Write a program which prompts the user for an adjective, then a noun, then a verb, and then prints a fun sentence with those words!"
      ],
      "metadata": {
        "id": "FigiHgeQ8gTo"
      }
    },
    {
      "cell_type": "code",
      "source": [
        "noun = str(input(\"Enter a noun and press enter : \"))\n",
        "verb = str(input(\"Enter a verb and press enter : \"))\n",
        "adj = str(input(\"Enter an adjective and press enter : \"))\n",
        "\n",
        "def mad_lib():\n",
        "  print(f\"Once upon a time, in a faraway land, there was a {adj} {noun} who loved to {verb}. Every day, the {noun} would explore new places and discover amazing things. One day, it stumbled upon a hidden treasure that changed its life forever. From that moment on, the {noun} knew that anything was possible with a little bit of imagination and a lot of heart\")\n",
        "\n",
        "mad_lib()"
      ],
      "metadata": {
        "colab": {
          "base_uri": "https://localhost:8080/"
        },
        "id": "qUoATEEK-Z_n",
        "outputId": "14551e59-2e20-424b-a021-676705db67e9"
      },
      "execution_count": 14,
      "outputs": [
        {
          "output_type": "stream",
          "name": "stdout",
          "text": [
            "Enter a noun and press enter : ogre\n",
            "Enter a verb and press enter : dance\n",
            "Enter an adjective and press enter : cute\n",
            "Once upon a time, in a faraway land, there was a cute ogre who loved to dance. Every day, the ogre would explore new places and discover amazing things. One day, it stumbled upon a hidden treasure that changed its life forever. From that moment on, the ogre knew that anything was possible with a little bit of imagination and a lot of heart\n"
          ]
        }
      ]
    },
    {
      "cell_type": "markdown",
      "source": [],
      "metadata": {
        "id": "FaSsCXRz_bRW"
      }
    }
  ]
}